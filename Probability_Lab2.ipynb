{
 "cells": [
  {
   "cell_type": "code",
   "execution_count": 1,
   "metadata": {},
   "outputs": [
    {
     "name": "stdout",
     "output_type": "stream",
     "text": [
      "[1] \"ak_vector length: 150\"\n",
      "[1] \"x_samples: \"\n",
      "  [1] -0.477101138  1.160555380  0.190122325  2.160951214  1.358790401\n",
      "  [6] -0.671622774  1.460585825  1.249451140 -1.210922035  0.139779351\n",
      " [11] -0.843651576 -1.942750833 -2.053904476 -0.960635494 -0.100311791\n",
      " [16]  1.202560979 -0.160850201 -1.255316248  1.198199742  0.738587664\n",
      " [21]  0.691632815  0.979290332 -2.401137978 -0.621546335  0.277991311\n",
      " [26] -1.853021714  0.078743953 -1.253781645  0.674565780 -0.090100672\n",
      " [31] -0.690641900 -1.339251268  2.899488911  1.833799907  2.514503853\n",
      " [36] -1.414596524 -0.776493718 -0.219982307  0.411945130  1.727718995\n",
      " [41] -0.506734854  0.533506594 -1.045992371  0.355608569 -0.932446189\n",
      " [46]  0.695505758 -0.302331955 -1.661233605  0.697147724  0.017003703\n",
      " [51] -0.534692194 -1.148871351  2.439586783  1.268753653  0.993915307\n",
      " [56]  0.909176069  0.964475278  1.184615593  1.821353712 -1.382325263\n",
      " [61] -0.724148005 -0.206164375  0.343631559  1.186544391 -0.988683506\n",
      " [66] -0.072013910  0.883397176 -0.909520564  0.204457361 -2.347283071\n",
      " [71] -0.084111342  1.661414829 -0.088682902 -2.572426045  0.182645621\n",
      " [76] -0.967912355  0.795865114 -0.167922282 -1.251679918  0.851244631\n",
      " [81]  0.062771247 -0.606589307 -1.711544672  0.990427524  0.407980751\n",
      " [86]  0.003073654 -0.338869371 -0.654259536 -0.960826841 -1.266647996\n",
      " [91] -1.561647953 -1.777901581 -1.774681345 -1.556897483 -1.265770407\n",
      " [96] -0.966480314 -0.668707720 -0.365417471 -0.041701568  0.330635251\n",
      "[1] \"y_samples: \"\n",
      " [1]  0.826405377  2.089953432 -0.887986126 -0.221689485  0.402965976\n",
      " [6]  1.403711552 -0.834673354  0.007010151  0.923635419 -0.994964418\n",
      "[11]  0.039550858  1.224886075 -0.578493552  0.498516535 -1.185250556\n",
      "[16]  0.156982092 -1.976943514  0.006949137  2.961737589  0.027516443\n",
      "[21] -1.748958513  0.216886817 -1.045272711  0.601678886 -0.465481622\n",
      "[26]  1.485400957  0.144995256 -0.842504409  1.069103880  0.077101875\n",
      "[31] -0.774376439  1.427257704  0.364592832 -0.315013862 -1.148482597\n",
      "[36]  1.222333034  0.433681044 -0.098242668 -0.617377557 -1.337652515\n",
      "[41]  1.452387383  0.763059505  0.363418851  0.051178524 -0.220214513\n",
      "[46] -0.470247127 -0.709440935 -0.944067850 -1.176871377 -1.404382092\n",
      "[1] \"problem 1:\"\n"
     ]
    },
    {
     "data": {
      "text/plain": [
       "\n",
       "\tWelch Two Sample t-test\n",
       "\n",
       "data:  x_samples and y_samples\n",
       "t = -0.61618, df = 110.93, p-value = 0.2695\n",
       "alternative hypothesis: true difference in means is less than 0\n",
       "95 percent confidence interval:\n",
       "     -Inf 0.194661\n",
       "sample estimates:\n",
       "   mean of x    mean of y \n",
       "-0.110167374  0.004886188 \n"
      ]
     },
     "metadata": {},
     "output_type": "display_data"
    },
    {
     "name": "stdout",
     "output_type": "stream",
     "text": [
      "[1] \"problem 2:\"\n"
     ]
    },
    {
     "data": {
      "text/plain": [
       "\n",
       "\tTwo Sample t-test\n",
       "\n",
       "data:  x_samples and y_samples\n",
       "t = -0.58858, df = 148, p-value = 0.557\n",
       "alternative hypothesis: true difference in means is not equal to 0\n",
       "95 percent confidence interval:\n",
       " -0.5013372  0.2712300\n",
       "sample estimates:\n",
       "   mean of x    mean of y \n",
       "-0.110167374  0.004886188 \n"
      ]
     },
     "metadata": {},
     "output_type": "display_data"
    },
    {
     "name": "stdout",
     "output_type": "stream",
     "text": [
      "[1] \"problem 4:\"\n"
     ]
    },
    {
     "data": {
      "text/plain": [
       "\n",
       "\tF test to compare two variances\n",
       "\n",
       "data:  x_samples and y_samples\n",
       "F = 1.3161, num df = 99, denom df = 49, p-value = 0.1441\n",
       "alternative hypothesis: true ratio of variances is greater than 1\n",
       "95 percent confidence interval:\n",
       " 0.8596517       Inf\n",
       "sample estimates:\n",
       "ratio of variances \n",
       "          1.316126 \n"
      ]
     },
     "metadata": {},
     "output_type": "display_data"
    }
   ],
   "source": [
    "n <- 7 #ID number(007)\n",
    "#i <- 100\n",
    "\n",
    "ak_vector <- c()\n",
    "\n",
    "#generate ak values\n",
    "for(k in 1:150) {\n",
    "    ak <- k * log(k^2 * n + pi)\n",
    "    x <- ak - floor(ak)\n",
    "    #print(paste(\"x:\", x))\n",
    "    ak_vector[k] <- x # add generated values to the vector\n",
    "}\n",
    "\n",
    "print(paste(\"ak_vector length:\", length(ak_vector)))\n",
    "\n",
    "# generate X1,... X100 samples\n",
    "x_samples <- qnorm(ak_vector[1:100])\n",
    "# generate Y1,... X50 samples\n",
    "y_samples <- qnorm(ak_vector[101:150])\n",
    "print(\"x_samples: \")\n",
    "print(x_samples)\n",
    "print(\"y_samples: \")\n",
    "print(y_samples)\n",
    "\n",
    "#problem 1\n",
    "print(\"problem 1:\")\n",
    "t.test(x_samples, y_samples, alternative = \"less\", mu = 0, paired = FALSE, var.equal = FALSE, conf.level = 0.95)\n",
    "\n",
    "#problem 2\n",
    "print(\"problem 2:\")\n",
    "t.test(x_samples, y_samples, var.equal=TRUE)\n",
    "ttest <- t.test(x_samples, y_samples, var.equal=TRUE)\n",
    "\n",
    "#problem 3\n",
    "\n",
    "#problem 4\n",
    "print(\"problem 4:\")\n",
    "var.test(x_samples, y_samples, alternative = \"greater\")\n",
    "\n"
   ]
  },
  {
   "cell_type": "code",
   "execution_count": null,
   "metadata": {
    "collapsed": true
   },
   "outputs": [],
   "source": []
  }
 ],
 "metadata": {
  "kernelspec": {
   "display_name": "R",
   "language": "R",
   "name": "ir"
  },
  "language_info": {
   "codemirror_mode": "r",
   "file_extension": ".r",
   "mimetype": "text/x-r-source",
   "name": "R",
   "pygments_lexer": "r",
   "version": "3.4.0"
  }
 },
 "nbformat": 4,
 "nbformat_minor": 2
}
